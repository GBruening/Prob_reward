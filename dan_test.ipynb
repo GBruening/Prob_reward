{
 "cells": [
  {
   "cell_type": "code",
   "execution_count": 1,
   "metadata": {},
   "outputs": [
    {
     "name": "stderr",
     "output_type": "stream",
     "text": [
      "Warning message:\n",
      "\"package 'ggplot2' was built under R version 3.6.3\"Warning message:\n",
      "\"package 'lme4' was built under R version 3.6.3\"Loading required package: Matrix\n",
      "\n",
      "Attaching package: 'lme4'\n",
      "\n",
      "The following object is masked from 'package:nlme':\n",
      "\n",
      "    lmList\n",
      "\n",
      "Warning message:\n",
      "\"package 'dplyr' was built under R version 3.6.3\"\n",
      "Attaching package: 'dplyr'\n",
      "\n",
      "The following object is masked from 'package:nlme':\n",
      "\n",
      "    collapse\n",
      "\n",
      "The following objects are masked from 'package:stats':\n",
      "\n",
      "    filter, lag\n",
      "\n",
      "The following objects are masked from 'package:base':\n",
      "\n",
      "    intersect, setdiff, setequal, union\n",
      "\n",
      "Warning message:\n",
      "\"package 'multcomp' was built under R version 3.6.3\"Loading required package: mvtnorm\n",
      "Warning message:\n",
      "\"package 'mvtnorm' was built under R version 3.6.3\"Loading required package: survival\n",
      "Loading required package: TH.data\n",
      "Loading required package: MASS\n",
      "\n",
      "Attaching package: 'MASS'\n",
      "\n",
      "The following object is masked from 'package:dplyr':\n",
      "\n",
      "    select\n",
      "\n",
      "\n",
      "Attaching package: 'TH.data'\n",
      "\n",
      "The following object is masked from 'package:MASS':\n",
      "\n",
      "    geyser\n",
      "\n"
     ]
    }
   ],
   "source": [
    "library(ggplot2)\n",
    "library(nlme)\n",
    "library(lme4)\n",
    "library(dplyr)\n",
    "library(multcomp)\n",
    "library(english)\n"
   ]
  },
  {
   "cell_type": "code",
   "execution_count": 7,
   "metadata": {},
   "outputs": [],
   "source": [
    "# setwd('D:/Google Drive/Yan Experiment')\n",
    "\n",
    "exp_name = '4t_180trial_4block'\n",
    "\n",
    "setwd(paste('../',exp_name,sep=''))\n",
    "test = read.csv(paste('vigor_conf_',exp_name,'.csv',sep=''))"
   ]
  },
  {
   "cell_type": "code",
   "execution_count": 8,
   "metadata": {},
   "outputs": [],
   "source": [
    "#====================== Filter and add Probs ================\n",
    "# famil_data = filter(test,trial<=16)\n",
    "# prefilt_data = filter(test,trial<=(16+36))\n",
    "# test = filter(test,trial>16)\n",
    "test = test[test$trial >= 17,]\n",
    "\n",
    "trials = c()\n",
    "counter = 1\n",
    "subj = 1\n",
    "for (k in 1:length(test$trial)){\n",
    "  if (test[k,]$subj!=subj){\n",
    "    counter = 1\n",
    "    subj = test[k,]$subj\n",
    "  }\n",
    "  trials = c(trials,counter)\n",
    "  if (test[k,'diff_prob']>0){\n",
    "    test[k,'diff_prob'] = test[k,'diff_prob']-.01\n",
    "  }\n",
    "  counter = counter + 1\n",
    "}\n",
    "test$trial_in_block= (trials-1)%%180+1"
   ]
  },
  {
   "cell_type": "code",
   "execution_count": 4,
   "metadata": {},
   "outputs": [],
   "source": [
    "blocks = c()\n",
    "counter = 1\n",
    "subj = 1\n",
    "block = 1\n",
    "\n",
    "for (k in 1:length(test$trial)){\n",
    "  if (test[k,]$subj!=subj){\n",
    "    subj = test[k,]$subj\n",
    "    block = 1\n",
    "  }\n",
    "  blocks = c(blocks,block)\n",
    "  if (test[k,]$trial_in_block == 180){\n",
    "    block = block + 1\n",
    "  }\n",
    "}\n",
    "test$block = blocks"
   ]
  },
  {
   "cell_type": "code",
   "execution_count": 5,
   "metadata": {},
   "outputs": [],
   "source": [
    "\n",
    "add_n_back <- function(data,n_back){\n",
    "  data[1,paste(as.english(n_back),'_back_rate',sep='')] = 0\n",
    "  data[1,paste(as.english(n_back),'_back_rate_tar',sep='')] = 0\n",
    "  for (k in 2:length(data$subj)){\n",
    "    subject = data[k,'subj']\n",
    "    block = data[k,'block']\n",
    "    cur_tar = data[k,'target']\n",
    "    rate = 0\n",
    "    tar_rate = 0\n",
    "    nb = 0\n",
    "    last_back = k-n_back\n",
    "    if (last_back <= 0){\n",
    "      last_back = 1\n",
    "    }\n",
    "    for (j in (k-1):last_back){\n",
    "      if (data[j,'subj'] != subject | data[j,'block'] != block){\n",
    "        # print(paste('Breaking at ',j,sep=''))\n",
    "        break\n",
    "      }\n",
    "      nb = nb + 1\n",
    "      rate = rate + (.5^(nb))*data[j,'rewarded']\n",
    "      \n",
    "      if (data[j,'target'] == cur_tar){\n",
    "        tar_rate = tar_rate + (.5^(nb))*data[j,'rewarded']\n",
    "      } else{\n",
    "        tar_rate = tar_rate + (.25^(nb))*data[j,'rewarded']\n",
    "      }\n",
    "    }\n",
    "    data[k,paste(as.english(n_back),'_back_rate',sep='')] = rate\n",
    "    data[k,paste(as.english(n_back),'_back_rate_tar',sep='')] = tar_rate\n",
    "  }\n",
    "  return(data)\n",
    "}\n",
    "\n",
    "for (nbacks in c(1)){#},3,5,10)){\n",
    "  test <- add_n_back(test,nbacks)\n",
    "}"
   ]
  },
  {
   "cell_type": "code",
   "execution_count": 6,
   "metadata": {},
   "outputs": [
    {
     "data": {
      "text/plain": [
       "Linear mixed-effects model fit by REML\n",
       " Data: test \n",
       "        AIC       BIC   logLik\n",
       "  -34517.95 -34464.92 17265.97\n",
       "\n",
       "Random effects:\n",
       " Formula: ~1 | subj\n",
       "        (Intercept)   Residual\n",
       "StdDev:   0.1538439 0.07243113\n",
       "\n",
       "Fixed effects: peak_vel ~ r_prob + as.factor(target) \n",
       "                        Value  Std.Error    DF   t-value p-value\n",
       "(Intercept)         0.4962583 0.03443116 14376  14.41306  0.0000\n",
       "r_prob              0.0024856 0.00162119 14376   1.53323  0.1252\n",
       "as.factor(target)2 -0.0562279 0.00170722 14376 -32.93537  0.0000\n",
       "as.factor(target)3 -0.0211226 0.00170722 14376 -12.37253  0.0000\n",
       "as.factor(target)4 -0.0428930 0.00170722 14376 -25.12448  0.0000\n",
       " Correlation: \n",
       "                   (Intr) r_prob as.()2 as.()3\n",
       "r_prob             -0.023                     \n",
       "as.factor(target)2 -0.025  0.000              \n",
       "as.factor(target)3 -0.025  0.000  0.500       \n",
       "as.factor(target)4 -0.025  0.000  0.500  0.500\n",
       "\n",
       "Standardized Within-Group Residuals:\n",
       "         Min           Q1          Med           Q3          Max \n",
       "-6.834102687 -0.581069501 -0.004852165  0.562031381  5.544809846 \n",
       "\n",
       "Number of Observations: 14400\n",
       "Number of Groups: 20 "
      ]
     },
     "metadata": {},
     "output_type": "display_data"
    }
   ],
   "source": [
    "summary(lme(peak_vel~r_prob+as.factor(target), random =~1|subj, data=test))"
   ]
  },
  {
   "cell_type": "code",
   "execution_count": 7,
   "metadata": {},
   "outputs": [
    {
     "data": {
      "text/plain": [
       "\n",
       "\t Simultaneous Tests for General Linear Hypotheses\n",
       "\n",
       "Fit: lmer(formula = peak_vel ~ r_prob + as.factor(target) + (1 | subj), \n",
       "    data = test)\n",
       "\n",
       "Linear Hypotheses:\n",
       "                         Estimate Std. Error z value Pr(>|z|)    \n",
       "(Intercept) == 0         0.496258   0.034431  14.413   <2e-16 ***\n",
       "r_prob == 0              0.002486   0.001621   1.533    0.125    \n",
       "as.factor(target)2 == 0 -0.056228   0.001707 -32.935   <2e-16 ***\n",
       "as.factor(target)3 == 0 -0.021123   0.001707 -12.373   <2e-16 ***\n",
       "as.factor(target)4 == 0 -0.042893   0.001707 -25.124   <2e-16 ***\n",
       "---\n",
       "Signif. codes:  0 '***' 0.001 '**' 0.01 '*' 0.05 '.' 0.1 ' ' 1\n",
       "(Univariate p values reported)\n"
      ]
     },
     "metadata": {},
     "output_type": "display_data"
    }
   ],
   "source": [
    "cftest(lmer(peak_vel~r_prob+as.factor(target)+(1|subj), data=test))"
   ]
  },
  {
   "cell_type": "code",
   "execution_count": null,
   "metadata": {},
   "outputs": [],
   "source": []
  }
 ],
 "metadata": {
  "kernelspec": {
   "display_name": "R",
   "language": "R",
   "name": "ir"
  },
  "language_info": {
   "codemirror_mode": "r",
   "file_extension": ".r",
   "mimetype": "text/x-r-source",
   "name": "R",
   "pygments_lexer": "r",
   "version": "3.6.1"
  }
 },
 "nbformat": 4,
 "nbformat_minor": 4
}
